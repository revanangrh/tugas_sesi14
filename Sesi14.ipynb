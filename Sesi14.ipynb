{
 "cells": [
  {
   "cell_type": "code",
   "execution_count": 8,
   "id": "1bc3b0e0-e425-471c-9a20-9e98ecbd3acd",
   "metadata": {},
   "outputs": [],
   "source": [
    "def menuUtama():\n",
    "    print(\"\"\"\n",
    "    ======MENU======\n",
    "    1. Menambahkan Mahasiswa\n",
    "    2. Menampilkan Daftar Mahasiswa\n",
    "    3. Exit\n",
    "    \"\"\")\n",
    "\n",
    "def tambah():\n",
    "    try:\n",
    "        nama = input(\"MASUKKAN NAMA (MINIMAL 6 DIGIT): \")\n",
    "        if len(nama) < 6:\n",
    "            print(\"NAMA TERLALU PENDEK, MINIMAL 6 DIGIT.\")\n",
    "            return\n",
    "        nim = input(\"MASUKKAN NIM (WAJIB 11 DIGIT): \")\n",
    "        if len(nim) != 11 or not nim.isdigit():\n",
    "            print(\"NIM HARUS 11 DIGIT.\")\n",
    "            return\n",
    "        alamat = input(\"MASUKKAN ALAMAT (MINIMAL 10 DIGIT): \")\n",
    "        if len(alamat) < 10:\n",
    "            print(\"ALAMAT TERLALU PENDEK, MINIMAL 10 DIGIT.\")\n",
    "            return\n",
    "        kelas = input(\"MASUKKAN KELAS (TI23 ATAU TI24): \")\n",
    "        if kelas not in (\"TI23\",\"TI24\"):\n",
    "            print(\"DIKHUSUSKAN UNTUK TI23 DAN TI24.\")\n",
    "            return\n",
    "            mahasiswa = f\"{nama}, {nim}, {alamat}, {kelas}\\n\"\n",
    "\n",
    "        with open('data_mahasiswa.txt','a') as f:\n",
    "            f.write(mahasiswa)\n",
    "\n",
    "    except ValueError:\n",
    "        print(\"MASUKKAN YANG BENAR!!!.\")\n",
    "    else:\n",
    "        print(\"DATA MAHASISWA BERHASIL DITAMBAHKAN.\")\n",
    "    finally:\n",
    "        print(\"PROSES MENAMBAHKAN SELESAI.\")\n",
    "\n",
    "def tampil():\n",
    "    try:\n",
    "        with open('data_mahasiswa.txt','r') as f:\n",
    "            daftar = f.read()\n",
    "            if not daftar:\n",
    "                print(\"TIDAK ADA DATA DALAM DAFTAR!!!\")\n",
    "            else:\n",
    "                print(daftar)\n",
    "    except FileNotFoundError:\n",
    "        print(\"FILE TIDAK DITEMUKAN!!!\")\n",
    "    finally:\n",
    "        print(\"PROGRAM SELESAI!!!\")"
   ]
  },
  {
   "cell_type": "code",
   "execution_count": 10,
   "id": "7c101557-9500-48b4-aef5-96317c638d0e",
   "metadata": {},
   "outputs": [
    {
     "name": "stdout",
     "output_type": "stream",
     "text": [
      "\n",
      "    ======MENU======\n",
      "    1. Menambahkan Mahasiswa\n",
      "    2. Menampilkan Daftar Mahasiswa\n",
      "    3. Exit\n",
      "    \n"
     ]
    },
    {
     "name": "stdin",
     "output_type": "stream",
     "text": [
      "MASUKKAN PILIHAN ANDA (1-3):  1\n",
      "MASUKKAN NAMA (MINIMAL 6 DIGIT):  revan\n"
     ]
    },
    {
     "name": "stdout",
     "output_type": "stream",
     "text": [
      "NAMA TERLALU PENDEK, MINIMAL 6 DIGIT.\n",
      "PROSES MENAMBAHKAN SELESAI.\n",
      "\n",
      "    ======MENU======\n",
      "    1. Menambahkan Mahasiswa\n",
      "    2. Menampilkan Daftar Mahasiswa\n",
      "    3. Exit\n",
      "    \n"
     ]
    },
    {
     "name": "stdin",
     "output_type": "stream",
     "text": [
      "MASUKKAN PILIHAN ANDA (1-3):  2\n"
     ]
    },
    {
     "name": "stdout",
     "output_type": "stream",
     "text": [
      "FILE TIDAK DITEMUKAN!!!\n",
      "PROGRAM SELESAI!!!\n",
      "\n",
      "    ======MENU======\n",
      "    1. Menambahkan Mahasiswa\n",
      "    2. Menampilkan Daftar Mahasiswa\n",
      "    3. Exit\n",
      "    \n"
     ]
    },
    {
     "name": "stdin",
     "output_type": "stream",
     "text": [
      "MASUKKAN PILIHAN ANDA (1-3):  2\n"
     ]
    },
    {
     "name": "stdout",
     "output_type": "stream",
     "text": [
      "FILE TIDAK DITEMUKAN!!!\n",
      "PROGRAM SELESAI!!!\n",
      "\n",
      "    ======MENU======\n",
      "    1. Menambahkan Mahasiswa\n",
      "    2. Menampilkan Daftar Mahasiswa\n",
      "    3. Exit\n",
      "    \n"
     ]
    },
    {
     "name": "stdin",
     "output_type": "stream",
     "text": [
      "MASUKKAN PILIHAN ANDA (1-3):  3\n"
     ]
    },
    {
     "name": "stdout",
     "output_type": "stream",
     "text": [
      "ANDA KELUAR DARI PROGRAM, TERIMA KASIH!.\n"
     ]
    }
   ],
   "source": [
    "while True:\n",
    "    try:\n",
    "        menuUtama()\n",
    "        pilihan = int(input(\"MASUKKAN PILIHAN ANDA (1-3): \"))\n",
    "        if pilihan == 1:\n",
    "            tambah()\n",
    "        elif pilihan == 2:\n",
    "            tampil()\n",
    "        elif pilihan == 3:\n",
    "            print(\"ANDA KELUAR DARI PROGRAM, TERIMA KASIH!.\")\n",
    "            break\n",
    "\n",
    "    except ValueError:\n",
    "        print(\"MASUKKAN YANG BENAR!!!\")\n",
    "    else:\n",
    "        pass"
   ]
  }
 ],
 "metadata": {
  "kernelspec": {
   "display_name": "Python [conda env:base] *",
   "language": "python",
   "name": "conda-base-py"
  },
  "language_info": {
   "codemirror_mode": {
    "name": "ipython",
    "version": 3
   },
   "file_extension": ".py",
   "mimetype": "text/x-python",
   "name": "python",
   "nbconvert_exporter": "python",
   "pygments_lexer": "ipython3",
   "version": "3.12.7"
  }
 },
 "nbformat": 4,
 "nbformat_minor": 5
}
